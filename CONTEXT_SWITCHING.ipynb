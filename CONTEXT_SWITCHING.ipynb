{
  "nbformat": 4,
  "nbformat_minor": 0,
  "metadata": {
    "colab": {
      "provenance": [],
      "authorship_tag": "ABX9TyPCkUvTAen2o0SiTfR19kmd",
      "include_colab_link": true
    },
    "kernelspec": {
      "name": "python3",
      "display_name": "Python 3"
    },
    "language_info": {
      "name": "python"
    }
  },
  "cells": [
    {
      "cell_type": "markdown",
      "metadata": {
        "id": "view-in-github",
        "colab_type": "text"
      },
      "source": [
        "<a href=\"https://colab.research.google.com/github/AdarshKhatri01/DBMS-Notes/blob/main/CONTEXT_SWITCHING.ipynb\" target=\"_parent\"><img src=\"https://colab.research.google.com/assets/colab-badge.svg\" alt=\"Open In Colab\"/></a>"
      ]
    },
    {
      "cell_type": "markdown",
      "source": [
        "# **Does the OS Work in Concurrency or Just Context Switching?**\n",
        "\n",
        "\n",
        "### **1. What is Context Switching?**\n",
        "Context switching is the process of **saving the state** of a currently running process and **loading the state** of another process. This allows the CPU to switch between multiple processes quickly, making it appear as if they are running simultaneously.\n",
        "\n",
        "🔹 **Example:**\n",
        "Imagine you are watching a YouTube video, downloading a file, and writing notes in Notepad. The OS keeps switching between these tasks so fast that you feel like everything is running at the same time.\n",
        "\n",
        "---\n",
        "\n",
        "### **2. How Does an OS Handle Multiple Tasks?**\n",
        "The OS uses **time-sharing** where each process gets a small time slice (a few milliseconds). The OS scheduler determines which process gets CPU time and when.\n",
        "\n",
        "- **On a single-core processor**:  \n",
        "  - Only **one** task runs at a time.\n",
        "  - The OS switches between tasks rapidly.\n",
        "  - This creates an illusion of multitasking.\n",
        "\n",
        "- **On a multi-core processor**:  \n",
        "  - True parallel execution happens.\n",
        "  - Each core runs a separate process simultaneously.\n",
        "  - Context switching still occurs when there are more processes than available cores.\n",
        "\n",
        "---\n",
        "\n",
        "### **3. Concurrency vs. Context Switching**\n",
        "| Feature | Concurrency | Context Switching |\n",
        "|---------|------------|-------------------|\n",
        "| Definition | Overlapping execution of multiple tasks | Saving and restoring CPU state to switch between tasks |\n",
        "| Requires Multi-core? | No, it works on single-core too | No, it is necessary for multitasking |\n",
        "| Speed | Faster if async/multithreading is used properly | Adds overhead (slightly reduces performance) |\n",
        "| Example | Web server handling multiple requests | Switching between Chrome, Spotify, and VS Code |\n",
        "\n",
        "---\n",
        "\n",
        "### **4. Example of Context Switching**\n",
        "Let’s say we have three tasks:\n",
        "\n",
        "1. **Task A:** Playing a video  \n",
        "2. **Task B:** Downloading a file  \n",
        "3. **Task C:** Writing code  \n",
        "\n",
        "#### **Step-by-step context switching:**\n",
        "1. The CPU starts executing **Task A** for 5ms.\n",
        "2. The OS **saves the state** of Task A and switches to **Task B**.\n",
        "3. After 5ms, the OS switches to **Task C**, saving Task B’s state.\n",
        "4. The OS keeps cycling between tasks so fast that it seems like all are running at once.\n",
        "\n",
        "💡 *This is not true concurrency but rather time-slicing!*\n",
        "\n",
        "---\n",
        "\n",
        "### **5. When Does True Concurrency Happen?**\n",
        "True concurrency happens when:\n",
        "- The system has **multiple cores**, and each core runs a different process simultaneously.\n",
        "- The OS schedules **I/O-bound** tasks (like network requests) efficiently using asynchronous programming.\n",
        "- Programs use **multi-threading/multi-processing** efficiently.\n",
        "\n",
        "---"
      ],
      "metadata": {
        "id": "Ht3DFzu_wfF-"
      }
    }
  ]
}